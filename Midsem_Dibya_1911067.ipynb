{
 "cells": [
  {
   "cell_type": "code",
   "execution_count": 52,
   "id": "f28eaa03",
   "metadata": {},
   "outputs": [],
   "source": [
    "%run my_functions_library.ipynb                                      #running my library here\n",
    "import matplotlib.pyplot as plt                                      #importing essential functions\n",
    "import numpy as np"
   ]
  },
  {
   "cell_type": "markdown",
   "id": "bb499dad",
   "metadata": {},
   "source": [
    "## Question 1"
   ]
  },
  {
   "cell_type": "code",
   "execution_count": 53,
   "id": "05bb0422",
   "metadata": {},
   "outputs": [
    {
     "name": "stdout",
     "output_type": "stream",
     "text": [
      "\n",
      " NEWTON RAPHSON METHOD \n",
      "\n",
      "The nearest root of the given function for the given value of x i.e. 4.8 is = 4.965114231744276\n"
     ]
    }
   ],
   "source": [
    "import math\n",
    "def func_1(x):\n",
    "    return ((x-5)*math.exp(x))+5\n",
    "\n",
    "eps=10**-8       \n",
    "\n",
    "print(\"\\n NEWTON RAPHSON METHOD \\n\")                                        #starting Newton Raphson method             \n",
    "x=4.8\n",
    "root=newton_raphson(x,func_1)\n",
    "print(\"The nearest root of the given function for the given value of x i.e. \" + str(x) + \" is = \"+str(root))\n",
    "\n",
    "\n",
    "#Dibya Bharati Pradhan(1911067)"
   ]
  },
  {
   "cell_type": "markdown",
   "id": "fa59d0d7",
   "metadata": {},
   "source": [
    "## Question 2"
   ]
  },
  {
   "cell_type": "code",
   "execution_count": 54,
   "id": "2b4ab083",
   "metadata": {},
   "outputs": [
    {
     "name": "stdout",
     "output_type": "stream",
     "text": [
      "The given matrix: Matrix A\n",
      "\n",
      "0.0    0.0    0.0    2.0    \n",
      "\n",
      "0.0    0.0    3.0    0.0    \n",
      "\n",
      "0.0    4.0    0.0    0.0    \n",
      "\n",
      "5.0    0.0    0.0    0.0    \n",
      "\n",
      "\n"
     ]
    }
   ],
   "source": [
    "import numpy as np\n",
    "\n",
    "A = [[0,0,0,2],[0,0,3,0],[0,4,0,0],[5,0,0,0]]                                 # defining 3X3 square matrix A\n",
    "print(\"The given matrix: Matrix A\")\n",
    "print_matrix(A,4,4)\n",
    "np.savetxt(\"matrix_A.csv\", A, delimiter = \",\")                                # saving matrix A in CSV file"
   ]
  },
  {
   "cell_type": "code",
   "execution_count": 55,
   "id": "de18b4fd",
   "metadata": {},
   "outputs": [
    {
     "name": "stdout",
     "output_type": "stream",
     "text": [
      "Given matrix in Augmented form: \n",
      "\n",
      "0.0    0.0    0.0    2.0    1.0    0.0    0.0    0.0    \n",
      "\n",
      "0.0    0.0    3.0    0.0    0.0    1.0    0.0    0.0    \n",
      "\n",
      "0.0    4.0    0.0    0.0    0.0    0.0    1.0    0.0    \n",
      "\n",
      "5.0    0.0    0.0    0.0    0.0    0.0    0.0    1.0    \n",
      "\n",
      "\n",
      "Inverse matrix: \n",
      "\n",
      "0.0    0.0    0.0    0.2    \n",
      "\n",
      "0.0    0.0    0.25    0.0    \n",
      "\n",
      "0.0    0.33    0.0    0.0    \n",
      "\n",
      "0.5    0.0    0.0    0.0    \n",
      "\n",
      "\n",
      "The multiplication of the matrix and it's inverse gives (Unit matrix): \n",
      "\n",
      "1.0    0.0    0.0    0.0    \n",
      "\n",
      "0.0    1.0    0.0    0.0    \n",
      "\n",
      "0.0    0.0    1.0    0.0    \n",
      "\n",
      "0.0    0.0    0.0    1.0    \n",
      "\n",
      "\n"
     ]
    }
   ],
   "source": [
    "print(\"Given matrix in Augmented form: \")\n",
    "B,r,c=read_matrix('matrix_Q2.txt')                         # pre typed txt file matrix_Q2\n",
    "print_matrix(B,r,c)\n",
    "GJ_matrix, det =gauss_jordan(B,r,c)                       #returns solution matrix and determinant value\n",
    "C,r,c=read_matrix('matrix_Q2.txt')                            \n",
    "if matrix_GJ!=None:\n",
    "                                                             # Finding the inverse; printing in rounded form\n",
    "                                         # performing the matrix multiplication for verification and then rounding at the end\n",
    "    M=get_inv(B,r)\n",
    "    M_M,k,l=matrix_multiply(M,r,r,C,r,r)                           # using only the n x n matrix i.e. unaugmented matrix \n",
    "    M=round_matrix(M)\n",
    "    print(\"Inverse matrix: \")\n",
    "    print_matrix(M,r,r)\n",
    "    print(\"The multiplication of the matrix and it's inverse gives (Unit matrix): \")\n",
    "    M_M=round_matrix(M_M)\n",
    "    print_matrix(M_M,r,r)\n",
    "else:\n",
    "    print(\"No unique solution\")\n",
    "    \n",
    "#Dibya Bharati Pradhan(1911067)"
   ]
  },
  {
   "cell_type": "markdown",
   "id": "a28f9318",
   "metadata": {},
   "source": [
    "## Question 3"
   ]
  },
  {
   "cell_type": "markdown",
   "id": "4894e0c5",
   "metadata": {},
   "source": [
    "#### LU decomposition using Doolittle's condition i.e. L[i][i]=1"
   ]
  },
  {
   "cell_type": "code",
   "execution_count": 56,
   "id": "030c6812",
   "metadata": {},
   "outputs": [
    {
     "name": "stdout",
     "output_type": "stream",
     "text": [
      "The original matrix is: \n",
      "\n",
      "3.0    -7.0    -2.0    2.0    \n",
      "\n",
      "-3.0    5.0    1.0    0.0    \n",
      "\n",
      "6.0    -4.0    0.0    -5.0    \n",
      "\n",
      "-9.0    5.0    -5.0    12.0    \n",
      "\n",
      "\n",
      "The transformed LU matrix is \n",
      "\n",
      "3.0    -7.0    -2.0    2.0    \n",
      "\n",
      "-1.0    -2.0    -1.0    2.0    \n",
      "\n",
      "-3.0    8.0    -3.0    2.0    \n",
      "\n",
      "2.0    -5.0    0.3333333333333333    0.33333333333333304    \n",
      "\n",
      "\n",
      "The solutions are : \n",
      "\n",
      "x[1] = 3.0\n",
      "x[2] = 4.0\n",
      "x[3] = -6.0\n",
      "x[4] = -1.0\n"
     ]
    }
   ],
   "source": [
    "print(\"The original matrix is: \")\n",
    "A1,row,col = read_matrix('matrix_Q3.txt')                            # reading and printing the matrix given in the question\n",
    "print_matrix(A1,row,col)\n",
    "\n",
    "b=[-9,5,7,11]                                                 # defining the vector b\n",
    "\n",
    "A1, b = partial_pivot_LU(A1, b, row)                  # partial pivoting to avoid division by zero at pivot place\n",
    "A1 = LU_doolittle(A1,row)                                           # calling LU decomposition function\n",
    "\n",
    "print(\"The transformed LU matrix is \")\n",
    "print_matrix(A1,row,row)\n",
    "\n",
    "x = [0 for i in range(row)]\n",
    "x = backward_subs_doolittle(A1,row,b)                        # calling function for backward substitution \n",
    "\n",
    "print(\"The solutions are : \")\n",
    "print()\n",
    "for i in range(row):\n",
    "    print(\"x[\"+str(i+1)+\"] = \"+str(x[i]))                            # printing the solutions\n",
    "\n",
    "    \n",
    "#Dibya Bharati Pradhan(1911067)"
   ]
  },
  {
   "cell_type": "markdown",
   "id": "6325bcf5",
   "metadata": {},
   "source": [
    "#### LU decomposition using Crout's condition i.e. U[i][i]=1"
   ]
  },
  {
   "cell_type": "code",
   "execution_count": 57,
   "id": "021f3001",
   "metadata": {},
   "outputs": [
    {
     "name": "stdout",
     "output_type": "stream",
     "text": [
      "The original matrix is: \n",
      "\n",
      "3.0    -7.0    -2.0    2.0    \n",
      "\n",
      "-3.0    5.0    1.0    0.0    \n",
      "\n",
      "6.0    -4.0    0.0    -5.0    \n",
      "\n",
      "-9.0    5.0    -5.0    12.0    \n",
      "\n",
      "\n",
      "The transformed LU matrix is \n",
      "\n",
      "3.0    -2.3333333333333335    -0.6666666666666666    0.6666666666666666    \n",
      "\n",
      "-3.0    -2.0    0.5    -1.0    \n",
      "\n",
      "-9.0    -16.0    -3.0    -0.6666666666666666    \n",
      "\n",
      "6.0    10.0    -1.0    0.33333333333333304    \n",
      "\n",
      "\n",
      "The solutions are : \n",
      "\n",
      "x[1] = 3.000000000000001\n",
      "x[2] = 4.0\n",
      "x[3] = -6.0\n",
      "x[4] = -1.0\n"
     ]
    }
   ],
   "source": [
    "print(\"The original matrix is: \")\n",
    "A2,row,col = read_matrix('matrix_Q3.txt')                           # reading and printing the matrix given in the question\n",
    "print_matrix(A2,row,col)\n",
    "\n",
    "b=[-9,5,7,11]                                                 # defining the vector b\n",
    "\n",
    "A2, b = partial_pivot_LU(A2, b, row)                  # partial pivoting to avoid division by zero at pivot place\n",
    "A2=LU_crout(A2,row)                                                  # calling LU decomposition function\n",
    "\n",
    "print(\"The transformed LU matrix is \")\n",
    "print_matrix(A2,row,row)\n",
    "\n",
    "x = [0 for i in range(row)]\n",
    "x= backward_subs_crout(A2,row,b)                              # calling function for backward substitution \n",
    "\n",
    "print(\"The solutions are : \")\n",
    "print()\n",
    "for i in range(row):\n",
    "    print(\"x[\"+str(i+1)+\"] = \"+str(x[i]))                             # printing the solutions\n",
    "\n",
    "    \n",
    "#Dibya Bharati Pradhan(1911067)\n"
   ]
  },
  {
   "cell_type": "markdown",
   "id": "549b58ec",
   "metadata": {},
   "source": [
    "## Question 4\n"
   ]
  },
  {
   "cell_type": "code",
   "execution_count": 58,
   "id": "5fd1cf13",
   "metadata": {},
   "outputs": [
    {
     "name": "stdout",
     "output_type": "stream",
     "text": [
      "\n",
      " BISECTION METHOD \n",
      "\n",
      "The root of the given function in the interval (0,1) is 0.3705587387084961\n",
      "\n",
      " REGULA FALSI METHOD \n",
      "\n",
      "The root of the given function in the interval (0,1) is 0.3705584003334566\n"
     ]
    }
   ],
   "source": [
    "def func_2(x):                                                 #defining a function to return the result of the \n",
    "    return 4*math.exp(-x)*math.sin(x)-1                                    #mathematical expression\n",
    "\n",
    "eps=10**-6                                                   #defining till the power of -8 for accuracy\n",
    "\n",
    "c=0\n",
    "d=1\n",
    "a,b=bracketing(c,d,func_2)                                     #calling bracketing function\n",
    "\n",
    "print(\"\\n BISECTION METHOD \\n\")                                #starting Bisection method\n",
    "root=bisection(a,b,func_2)                                      \n",
    "if c==a and d==b:                                               #checking if the root lies in the interval [a,b]\n",
    "    print(\"The root of the given function in the interval (\" + str(p) + \",\" + str(q) + \") is \"+str(root))\n",
    "else:\n",
    "    print(\"The root does not fall in the given range (\" + str(p) + \",\" + str(q)+\")\")\n",
    "    print(\"Changing the interval to (\" + str(a) + \",\" + str(b)+\")\")\n",
    "    print(\"The root of the given function in the interval (\" + str(a) + \",\" + str(b) + \") is \"+str(root))\n",
    "\n",
    "print(\"\\n REGULA FALSI METHOD \\n\")                             #starting Regula Falsi method\n",
    "root=regula_falsi(a,b,func_2)                                  #checking if the root lies in the interval [a,b]\n",
    "if p==a and q==b:\n",
    "    print(\"The root of the given function in the interval (\" + str(p) + \",\" + str(q) + \") is \"+str(root))\n",
    "else:\n",
    "    print(\"The root does not fall in the given range (\" + str(p) + \",\" + str(q)+\")\")\n",
    "    print(\"Changing the interval to (\" + str(a) + \",\" + str(b)+\")\")\n",
    "    print(\"The root of the given function in the interval (\" + str(a) + \",\" + str(b) + \") is \"+str(root))\n",
    "\n",
    "    \n",
    "#Dibya Bharati Pradhan(1911067)"
   ]
  },
  {
   "cell_type": "code",
   "execution_count": 59,
   "id": "4fe411a8",
   "metadata": {},
   "outputs": [
    {
     "data": {
      "image/png": "[encoded data removed]",
      "text/plain": [
       "<Figure size 864x432 with 1 Axes>"
      ]
     },
     "metadata": {
      "needs_background": "light"
     },
     "output_type": "display_data"
    },
    {
     "name": "stdout",
     "output_type": "stream",
     "text": [
      "\n",
      "BISECTION METHOD\n",
      "No. of iterations    f(x)                 Root convergence    \n",
      "1.0                  -0.2292864           0.25                \n",
      "2.0                  0.0069407            0.375               \n",
      "3.0                  -0.1002927           0.3125              \n",
      "4.0                  -0.0440679           0.34375             \n",
      "5.0                  -0.0179254           0.359375            \n",
      "6.0                  -0.0053345           0.3671875           \n",
      "7.0                  0.0008424            0.3710938           \n",
      "8.0                  -0.0022362           0.3691406           \n",
      "9.0                  -0.0006945           0.3701172           \n",
      "10.0                 7.46e-05             0.3706055           \n",
      "11.0                 -0.0003098           0.3703613           \n",
      "12.0                 -0.0001176           0.3704834           \n",
      "13.0                 -2.15e-05            0.3705444           \n",
      "14.0                 2.65e-05             0.370575            \n",
      "15.0                 2.5e-06              0.3705597           \n",
      "16.0                 -9.5e-06             0.3705521           \n",
      "17.0                 -3.5e-06             0.3705559           \n",
      "18.0                 -5e-07               0.3705578           \n",
      "19.0                 1e-06                0.3705587           \n",
      "\n",
      "\n",
      "REGULA FALSI METHOD\n",
      "No. of iterations    f(x)                 Root convergence    \n",
      "1.0                  0.2889616            0.8075982           \n",
      "2.0                  0.2534652            0.6265495           \n",
      "3.0                  0.163004             0.4998539           \n",
      "4.0                  0.0844511            0.4297955           \n",
      "5.0                  0.0388682            0.3963254           \n",
      "6.0                  0.0169115            0.3814973           \n",
      "7.0                  0.0071779            0.3751529           \n",
      "8.0                  0.0030144            0.3724793           \n",
      "9.0                  0.0012603            0.3713599           \n",
      "10.0                 0.0005259            0.3708924           \n",
      "11.0                 0.0002193            0.3706975           \n",
      "12.0                 9.14e-05             0.3706162           \n",
      "13.0                 3.81e-05             0.3705823           \n",
      "14.0                 1.59e-05             0.3705682           \n",
      "15.0                 6.6e-06              0.3705623           \n",
      "16.0                 2.8e-06              0.3705598           \n",
      "17.0                 1.1e-06              0.3705588           \n",
      "18.0                 5e-07                0.3705584           \n"
     ]
    }
   ],
   "source": [
    "plt.figure(figsize=(12,6))\n",
    "\n",
    "p=0\n",
    "q=1\n",
    "\n",
    "a,b=bracketing(p,q,func_2)\n",
    "x_b, y_b, z_b = bisection_for_plotting(a,b,func_2)\n",
    "x_r, y_r, z_r = regula_falsi_for_plotting(a,b,func_2)\n",
    "\n",
    "plt.plot(x_b, y_b, 'r-o', label='Bisection')\n",
    "plt.plot(x_r, y_r, 'b-o', label='Regula Falsi')\n",
    "\n",
    "plt.grid(color='b', ls = '-.', lw = 0.5)\n",
    "plt.xlabel('No. of iterations')\n",
    "plt.ylabel('f(x)')\n",
    "plt.title('Graph of f(x) ~ No. of iterations ')\n",
    "plt.legend()\n",
    "plt.show()\n",
    "                                                \n",
    "                                                                #printing the data for different methods below\n",
    "\n",
    "print(\"\\nBISECTION METHOD\")\n",
    "print (\"{:<20} {:<20} {:<20}\".format('No. of iterations', 'f(x)', 'Root convergence'))\n",
    "for i in range(len(x_b)):\n",
    "    print (\"{:<20} {:<20} {:<20}\".format(Round(x_b[i],7), Round(y_b[i],7), Round(z_b[i],7)))\n",
    "\n",
    "print(\"\\n\\nREGULA FALSI METHOD\")\n",
    "print (\"{:<20} {:<20} {:<20}\".format('No. of iterations', 'f(x)', 'Root convergence'))\n",
    "for i in range(len(x_r)):\n",
    "    print (\"{:<20} {:<20} {:<20}\".format(Round(x_r[i],7), Round(y_r[i],7), Round(z_r[i],7)))\n",
    "    \n",
    "\n",
    "#Dibya Bharati Pradhan(1911067)\n"
   ]
  },
  {
   "cell_type": "code",
   "execution_count": null,
   "id": "63a95182",
   "metadata": {},
   "outputs": [],
   "source": []
  }
 ],
 "metadata": {
  "kernelspec": {
   "display_name": "Python 3",
   "language": "python",
   "name": "python3"
  },
  "language_info": {
   "codemirror_mode": {
    "name": "ipython",
    "version": 3
   },
   "file_extension": ".py",
   "mimetype": "text/x-python",
   "name": "python",
   "nbconvert_exporter": "python",
   "pygments_lexer": "ipython3",
   "version": "3.8.10"
  }
 },
 "nbformat": 4,
 "nbformat_minor": 5
}
